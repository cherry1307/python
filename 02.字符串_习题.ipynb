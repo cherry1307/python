{
 "cells": [
  {
   "cell_type": "markdown",
   "metadata": {},
   "source": [
    "# format 格式化字符串\n",
    "\n",
    "    1.位置参数\n",
    "      非关键字参数\n",
    "      多次利用参数\n",
    "      关键字参数\n",
    "    2.通过下标\n",
    "        format函数里面传入的是可迭代对象，例如列表、元组、字典\n",
    "        格式限定符：限制小数的位数\n",
    "        进制输出\n",
    "        填充对齐  <左对齐   >右对齐  ^居中\n",
    "        打印一个矩形\n",
    "        打印一个三角形\n",
    "\n"
   ]
  },
  {
   "cell_type": "code",
   "execution_count": 36,
   "metadata": {},
   "outputs": [
    {
     "name": "stdout",
     "output_type": "stream",
     "text": [
      "我的身高是160cm，我的身高是65kg\n"
     ]
    }
   ],
   "source": [
    "# format 格式化字符串\n",
    "#1.位置参数\n",
    "# 非关键字参数\n",
    "\n",
    "str1=\"我的身高是{0}，我的身高是{1}\"\n",
    "res=str1.format('160cm','65kg')\n",
    "\n",
    "#print(str1)\n",
    "\n",
    "print(res)\n",
    "   "
   ]
  },
  {
   "cell_type": "code",
   "execution_count": 17,
   "metadata": {},
   "outputs": [
    {
     "name": "stdout",
     "output_type": "stream",
     "text": [
      "我的身高是160cm，我的身高是65kg,65kg是今天测得\n"
     ]
    }
   ],
   "source": [
    "#多次利用参数\n",
    "\n",
    "str1=\"我的身高是{0}，我的身高是{1},{1}是今天测得\"\n",
    "res=str1.format('160cm','65kg')\n",
    "\n",
    "#print(str1)\n",
    "\n",
    "print(res)"
   ]
  },
  {
   "cell_type": "code",
   "execution_count": 18,
   "metadata": {},
   "outputs": [
    {
     "name": "stdout",
     "output_type": "stream",
     "text": [
      "我的身高是160cm，我的身高是65kg\n"
     ]
    }
   ],
   "source": [
    "#关键字参数\n",
    "\n",
    "str1=\"我的身高是{height}，我的身高是{weight}\"\n",
    "res=str1.format(height='160cm',weight='65kg')\n",
    "\n",
    "#print(str1)\n",
    "\n",
    "print(res)"
   ]
  },
  {
   "cell_type": "code",
   "execution_count": 19,
   "metadata": {},
   "outputs": [
    {
     "name": "stdout",
     "output_type": "stream",
     "text": [
      "我的身高是160cm，我的身高是65kg\n",
      "我的身高是160cm，我的身高是65kg\n"
     ]
    }
   ],
   "source": [
    "#2.通过下标\n",
    "\n",
    "str1=\"我的身高是{0[0]}，我的身高是{0[1]}\"\n",
    "\n",
    "res=str1.format(['160cm','65kg'])#format函数里面传入的是可迭代对象，例如列表、元组、字典\n",
    "\n",
    "#print(str1)\n",
    "\n",
    "print(res)\n",
    "\n",
    "str1=\"我的身高是{0[h]}，我的身高是{0[w]}\"#format函数里传入字典\n",
    "\n",
    "dict1={'h':'160cm','w':'65kg'}\n",
    "\n",
    "res=str1.format({'h':'160cm','w':'65kg'})#等价于res=str1.format（dict1）\n",
    "\n",
    "#print(str1)\n",
    "\n",
    "print(res)"
   ]
  },
  {
   "cell_type": "code",
   "execution_count": 28,
   "metadata": {},
   "outputs": [
    {
     "name": "stdout",
     "output_type": "stream",
     "text": [
      "我知道π的值是3.142\n"
     ]
    }
   ],
   "source": [
    "#格式限定符\n",
    "\n",
    "#限制小数的位数\n",
    "\n",
    "res='我知道π的值是{:0.3f}'.format(3.1415926)\n",
    "\n",
    "print(res)"
   ]
  },
  {
   "cell_type": "code",
   "execution_count": 31,
   "metadata": {},
   "outputs": [
    {
     "name": "stdout",
     "output_type": "stream",
     "text": [
      "10的二进制是1010\n",
      "10的八进制是12\n",
      "10的十六进制是a\n",
      "10的十进制是10\n"
     ]
    }
   ],
   "source": [
    "#进制输出\n",
    "res='10的二进制是{:b}'.format(10)\n",
    "\n",
    "print(res)\n",
    "\n",
    "res='10的八进制是{:o}'.format(10)\n",
    "\n",
    "print(res)\n",
    "\n",
    "res='10的十六进制是{:x}'.format(10)\n",
    "\n",
    "\n",
    "print(res)\n",
    "\n",
    "res='10的十进制是{:d}'.format(10)\n",
    "\n",
    "\n",
    "print(res)"
   ]
  },
  {
   "cell_type": "code",
   "execution_count": 34,
   "metadata": {},
   "outputs": [
    {
     "name": "stdout",
     "output_type": "stream",
     "text": [
      "10000000000000\n",
      "值10,000,000,000,000多钱\n"
     ]
    }
   ],
   "source": [
    "print(10000000000000)\n",
    "\n",
    "res='值{:,}多钱'.format(10000000000000)\n",
    "\n",
    "print(res)"
   ]
  },
  {
   "cell_type": "code",
   "execution_count": 41,
   "metadata": {},
   "outputs": [
    {
     "name": "stdout",
     "output_type": "stream",
     "text": [
      "haha,,,,,123\n",
      "haha*****123\n"
     ]
    }
   ],
   "source": [
    "#填充对齐  <左对齐   >右对齐  ^居中\n",
    "\n",
    "res='haha{:,>8}'.format(123)\n",
    "print(res)\n",
    "res='haha{:*>8}'.format(123)\n",
    "print(res)"
   ]
  },
  {
   "cell_type": "code",
   "execution_count": 73,
   "metadata": {},
   "outputs": [
    {
     "name": "stdout",
     "output_type": "stream",
     "text": [
      "0\n",
      "1\n",
      "2\n",
      "3\n",
      "4\n"
     ]
    }
   ],
   "source": [
    "#打印一个矩形\n",
    "\n",
    "\n",
    "for i in range(5):\n",
    "    print(i)\n",
    "        \n",
    "    "
   ]
  },
  {
   "cell_type": "code",
   "execution_count": 75,
   "metadata": {},
   "outputs": [
    {
     "name": "stdout",
     "output_type": "stream",
     "text": [
      "0 1 2 3 4 "
     ]
    }
   ],
   "source": [
    "for i in range(5):\n",
    "    print(i,end=\" \")"
   ]
  },
  {
   "cell_type": "code",
   "execution_count": null,
   "metadata": {},
   "outputs": [],
   "source": [
    "for i in range(5):\n",
    "    print(i,end=\" \")"
   ]
  },
  {
   "cell_type": "code",
   "execution_count": 70,
   "metadata": {},
   "outputs": [
    {
     "name": "stdout",
     "output_type": "stream",
     "text": [
      "* * * * \n",
      "\n",
      "* * * * \n",
      "\n",
      "* * * * \n",
      "\n",
      "* * * * \n",
      "\n",
      "* * * * \n",
      "\n"
     ]
    }
   ],
   "source": [
    "#打印一个矩形\n",
    "\n",
    "#这个循环控制行\n",
    "for i in range(5):\n",
    "    #这个循环控制列\n",
    "        for j in range(0,4):\n",
    "            print('*',end=\" \")\n",
    "        print(\"\\n\")"
   ]
  },
  {
   "cell_type": "code",
   "execution_count": 65,
   "metadata": {},
   "outputs": [
    {
     "name": "stdout",
     "output_type": "stream",
     "text": [
      "请输入行数：4\n",
      "请输入列数：5\n",
      "* * * * * \n",
      "\n",
      "* * * * * \n",
      "\n",
      "* * * * * \n",
      "\n",
      "* * * * * \n",
      "\n"
     ]
    }
   ],
   "source": [
    "#打印一个矩形\n",
    "row=input(\"请输入行数：\")#里面是字符串型，强制转换\n",
    "lie=input(\"请输入列数：\")\n",
    "#这个循环控制行\n",
    "for i in range(int(row)):\n",
    "    #这个循环控制列\n",
    "        for j in range(int(lie)):\n",
    "            print('*',end=\" \")\n",
    "        print(\"\\n\")"
   ]
  },
  {
   "cell_type": "code",
   "execution_count": 82,
   "metadata": {},
   "outputs": [
    {
     "name": "stdout",
     "output_type": "stream",
     "text": [
      "* * * * * \n",
      "* * * * \n",
      "* * * \n",
      "* * \n",
      "* \n"
     ]
    }
   ],
   "source": [
    "#打印一个三角形\n",
    "\n",
    "#循环控制行\n",
    "for m in range(5):\n",
    "    #循环控制列\n",
    "    for n in range(0,5-m):\n",
    "        print( '*',end=\" \")\n",
    "    print('')\n"
   ]
  },
  {
   "cell_type": "code",
   "execution_count": 83,
   "metadata": {},
   "outputs": [
    {
     "name": "stdout",
     "output_type": "stream",
     "text": [
      "\n",
      "* \n",
      "* * \n",
      "* * * \n",
      "* * * * \n"
     ]
    }
   ],
   "source": [
    "#循环控制行\n",
    "for m in range(5):\n",
    "    #循环控制列\n",
    "    for n in range(5-m,5):\n",
    "        print( '*',end=\" \")\n",
    "    print('')\n"
   ]
  },
  {
   "cell_type": "code",
   "execution_count": 85,
   "metadata": {},
   "outputs": [
    {
     "name": "stdout",
     "output_type": "stream",
     "text": [
      "请输入行数：5\n",
      "\n",
      "* \n",
      "* * \n",
      "* * * \n",
      "* * * * \n"
     ]
    }
   ],
   "source": [
    "row=input(\"请输入行数：\")\n",
    "#循环控制行\n",
    "for m in range(int(row)):\n",
    "    #循环控制列\n",
    "    for n in range(int(row)-m,int(row)):\n",
    "        print( '*',end=\" \")\n",
    "    print('')\n"
   ]
  },
  {
   "cell_type": "code",
   "execution_count": 99,
   "metadata": {},
   "outputs": [
    {
     "name": "stdout",
     "output_type": "stream",
     "text": [
      "1x9=9  \n",
      "2x8=16 2x9=18 \n",
      "3x7=21 3x8=24 3x9=27 \n",
      "4x6=24 4x7=28 4x8=32 4x9=36 \n",
      "5x5=25 5x6=30 5x7=35 5x8=40 5x9=45 \n",
      "6x4=24 6x5=30 6x6=36 6x7=42 6x8=48 6x9=54 \n",
      "7x3=21 7x4=28 7x5=35 7x6=42 7x7=49 7x8=56 7x9=63 \n",
      "8x2=16 8x3=24 8x4=32 8x5=40 8x6=48 8x7=56 8x8=64 8x9=72 \n",
      "9x1=9  9x2=18 9x3=27 9x4=36 9x5=45 9x6=54 9x7=63 9x8=72 9x9=81 \n"
     ]
    }
   ],
   "source": [
    "#根据直角三角形可以改装成九九乘法表\n",
    "\n",
    "#循环控制行\n",
    "for m in range(1,10):\n",
    "    #循环控制列\n",
    "    for n in range(10-m,10):\n",
    "   # for n in range(1,m+1):\n",
    "        print(\"%dx%d=%-2d\"%(m,n,m*n),end=\" \")#-表示左对齐\n",
    "    print('')\n"
   ]
  },
  {
   "cell_type": "code",
   "execution_count": 100,
   "metadata": {},
   "outputs": [
    {
     "name": "stdout",
     "output_type": "stream",
     "text": [
      "1x1=1  \n",
      "2x1=2  2x2=4  \n",
      "3x1=3  3x2=6  3x3=9  \n",
      "4x1=4  4x2=8  4x3=12 4x4=16 \n",
      "5x1=5  5x2=10 5x3=15 5x4=20 5x5=25 \n",
      "6x1=6  6x2=12 6x3=18 6x4=24 6x5=30 6x6=36 \n",
      "7x1=7  7x2=14 7x3=21 7x4=28 7x5=35 7x6=42 7x7=49 \n",
      "8x1=8  8x2=16 8x3=24 8x4=32 8x5=40 8x6=48 8x7=56 8x8=64 \n",
      "9x1=9  9x2=18 9x3=27 9x4=36 9x5=45 9x6=54 9x7=63 9x8=72 9x9=81 \n"
     ]
    }
   ],
   "source": [
    "for m in range(1,10):\n",
    "    #循环控制列\n",
    "   # for n in range(10-m,10):\n",
    "    for n in range(1,m+1):\n",
    "        print(\"%dx%d=%-2d\"%(m,n,m*n),end=\" \")#-表示左对齐\n",
    "    print('')"
   ]
  }
 ],
 "metadata": {
  "kernelspec": {
   "display_name": "Python 3",
   "language": "python",
   "name": "python3"
  },
  "language_info": {
   "codemirror_mode": {
    "name": "ipython",
    "version": 3
   },
   "file_extension": ".py",
   "mimetype": "text/x-python",
   "name": "python",
   "nbconvert_exporter": "python",
   "pygments_lexer": "ipython3",
   "version": "3.6.4"
  }
 },
 "nbformat": 4,
 "nbformat_minor": 2
}
