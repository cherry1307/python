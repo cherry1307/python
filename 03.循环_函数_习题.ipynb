{
 "cells": [
  {
   "cell_type": "markdown",
   "metadata": {},
   "source": [
    "# 作业"
   ]
  },
  {
   "cell_type": "code",
   "execution_count": 121,
   "metadata": {},
   "outputs": [
    {
     "name": "stdout",
     "output_type": "stream",
     "text": [
      "* * * * * \n",
      "\n",
      "* * * * * \n",
      "\n",
      "* * * * * \n",
      "\n",
      "* * * * * \n",
      "\n",
      "====================\n",
      "* * * * * \n",
      "\n",
      "*       * \n",
      "\n",
      "*       * \n",
      "\n",
      "* * * * * \n",
      "\n"
     ]
    }
   ],
   "source": [
    "#打印一个矩形\n",
    "\n",
    "#这个循环控制行\n",
    "for i in range(1,5):\n",
    "    #这个循环控制列\n",
    "        for j in range(1,6):\n",
    "            \n",
    "            print('*',end=\" \")\n",
    "        \n",
    "        print(\"\\n\")#当第i行的5列输出完后，进行换行\n",
    "print('='*20)#分割输出，用的是字符串乘法\n",
    "\n",
    "#打印一个空心矩形\n",
    "\n",
    "for i in range(1,5):\n",
    "    for j in range(1,6):\n",
    "        if i==1 or i==4 or j==1 or j==5:\n",
    "            print('*',end=\" \")\n",
    "        else:\n",
    "            print(' ',end=\" \")\n",
    "    print(\"\\n\")#当第i行的5列输出完后，进行换行"
   ]
  },
  {
   "cell_type": "code",
   "execution_count": 42,
   "metadata": {},
   "outputs": [
    {
     "name": "stdout",
     "output_type": "stream",
     "text": [
      "* \n",
      "* * \n",
      "* * * \n",
      "* * * * \n",
      "* * * * * \n",
      "====================\n",
      "* \n",
      "\n",
      "* * \n",
      "\n",
      "*   * \n",
      "\n",
      "*     * \n",
      "\n",
      "* * * * * \n",
      "\n"
     ]
    }
   ],
   "source": [
    "#打印一个直角三角形\n",
    "\n",
    "#循环控制行\n",
    "for i in range(1,6):\n",
    "    #循环控制列\n",
    "    for j in range(6-i,6):\n",
    "        print( '*',end=\" \")\n",
    "    print('')\n",
    "print('=='*10)\n",
    "\n",
    "#打印一个空心直角三角形\n",
    "for i in range(1,6):\n",
    "    for j in range(6-i,6):\n",
    "        if i==1 or i==5  or  j==7-i-1 or j==5:\n",
    "            print( '*',end=\" \")\n",
    "            \n",
    "        else:\n",
    "            print(' ',end=\" \")\n",
    "    print(\"\\n\")\n",
    "    #print(\" \")\n"
   ]
  },
  {
   "cell_type": "code",
   "execution_count": 43,
   "metadata": {},
   "outputs": [
    {
     "name": "stdout",
     "output_type": "stream",
     "text": [
      "* * * * * \n",
      "* * * * \n",
      "* * * \n",
      "* * \n",
      "* \n",
      "====================\n",
      "* * * * * \n",
      "\n",
      "*     * \n",
      "\n",
      "*   * \n",
      "\n",
      "* * \n",
      "\n",
      "* \n",
      "\n"
     ]
    }
   ],
   "source": [
    "#旋转180°\n",
    "\n",
    "for i in range(1,6):\n",
    "    for j in range(1,7-i):\n",
    "        print( '*',end=\" \")\n",
    "    print('')\n",
    "print('=='*10)\n",
    "\n",
    "#空心\n",
    "for i in range(1,6):\n",
    "    for j in range(1,7-i):\n",
    "        if i==1 or i==5 or j==1 or j==7-i-1:\n",
    "            print( '*',end=\" \")\n",
    "            \n",
    "        else:\n",
    "            print(' ',end=\" \")\n",
    "    print(\"\\n\")\n"
   ]
  },
  {
   "cell_type": "code",
   "execution_count": 66,
   "metadata": {},
   "outputs": [
    {
     "name": "stdout",
     "output_type": "stream",
     "text": [
      "     * \n",
      "    * * \n",
      "   * * * \n",
      "  * * * * \n",
      " * * * * * \n",
      "====================\n",
      "     * \n",
      "    * * \n",
      "   *   * \n",
      "  *     * \n",
      " * * * * * \n"
     ]
    }
   ],
   "source": [
    "#控制行\n",
    "for i in range(5):\n",
    "    #更改打印起始位置\n",
    "    for j in range(0,5-i):\n",
    "        \n",
    "        print(end=\" \")\n",
    "    #控制列，第一行一列，第二行两列\n",
    "    for k in range(5-i,6):\n",
    "        print( '*',end=\" \")\n",
    "    print('')\n",
    "print('=='*10)\n",
    "\n",
    "#空心\n",
    "for i in range(5):\n",
    "    for j in range(0,5-i):\n",
    "        print(end=\" \")\n",
    "    for k in range(5-i,6):\n",
    "        \n",
    "        if i==0 or i==4 or k==5-i or k==5:\n",
    "            print( '*',end=\" \")\n",
    "        else:\n",
    "            print(' ',end=\" \")\n",
    "    print('')\n"
   ]
  },
  {
   "cell_type": "code",
   "execution_count": 60,
   "metadata": {},
   "outputs": [
    {
     "name": "stdout",
     "output_type": "stream",
     "text": [
      "     * \n",
      "    * * \n",
      "   *   * \n",
      "  * * * * \n",
      " *       * \n"
     ]
    }
   ],
   "source": [
    "#打印字母A\n",
    "for i in range(5):\n",
    "    for j in range(0,5-i):\n",
    "        print(end=\" \")\n",
    "    for k in range(5-i,6):\n",
    "        \n",
    "        if i==0 or i==3 or k==5-i or k==5:\n",
    "            print( '*',end=\" \")\n",
    "        else:\n",
    "            print(' ',end=\" \")\n",
    "    print('')"
   ]
  },
  {
   "cell_type": "code",
   "execution_count": 103,
   "metadata": {},
   "outputs": [
    {
     "name": "stdout",
     "output_type": "stream",
     "text": [
      "     * \n",
      "    * * \n",
      "   * * * \n",
      "  * * * * \n",
      " * * * * * \n",
      "  * * * * \n",
      "   * * * \n",
      "    * * \n",
      "     * \n",
      "====================\n",
      "     * \n",
      "    * * \n",
      "   *   * \n",
      "  *     * \n",
      " *       * \n",
      "  *     * \n",
      "   *   * \n",
      "    * * \n",
      "     * \n"
     ]
    }
   ],
   "source": [
    "#菱形\n",
    "for i in range(1,5):\n",
    "    for k in range(1,7-i):        \n",
    "        print(end=\" \")\n",
    "    for j in range(6-i,6):\n",
    "        print( '*',end=\" \")\n",
    "    print('')\n",
    "for i in range(1,6):\n",
    "    for k in range(i):\n",
    "        print(end=\" \")\n",
    "    for j in range(6-i):\n",
    "        print( '*',end=\" \")\n",
    "    print('')\n",
    "print('=='*10)\n",
    "#空心菱形\n",
    "for i in range(1,5):\n",
    "    for k in range(1,7-i):\n",
    "        print(end=\" \")\n",
    "    for j in range(6-i,6):\n",
    "        if i==1 or j==6-i or j==5:\n",
    "            print( '*',end=\" \")\n",
    "        else:\n",
    "            print(' ',end=\" \")\n",
    "    print('')\n",
    "for i in range(1,6):\n",
    "    for k in range(i):\n",
    "        print(end=\" \")\n",
    "    for j in range(6-i):\n",
    "        if  i==6 or j==5-i or j==0:\n",
    "            print( '*',end=\" \")\n",
    "        else:\n",
    "            print(' ',end=\" \")\n",
    "    print('')"
   ]
  },
  {
   "cell_type": "code",
   "execution_count": 106,
   "metadata": {},
   "outputs": [
    {
     "name": "stdout",
     "output_type": "stream",
     "text": [
      "    * * * * \n",
      "   * * * * * \n",
      "  * * * * * * \n",
      " * * * * * * * \n",
      "* * * * * * * * \n",
      "====================\n",
      "    * * * * \n",
      "   *       * \n",
      "  *         * \n",
      " *           * \n",
      "* * * * * * * * \n"
     ]
    }
   ],
   "source": [
    "#梯形\n",
    "for i in range(1,6):\n",
    "    for k in range(1,6-i):\n",
    "        print(end=\" \")\n",
    "    for j in range(6-i,9):\n",
    "        print(\"*\",end=\" \")\n",
    "    print()\n",
    "print(\"=\"*20)\n",
    "#空心梯形\n",
    "for i in range(1,6):\n",
    "    for k in range(1,6-i):\n",
    "        print(end=\" \")\n",
    "    for j in range(6-i,9):\n",
    "        if i==1 or i==5 or j==6-i or j==8:\n",
    "            print(\"*\",end=\" \")\n",
    "        else:\n",
    "            print(\" \",end=\" \")\n",
    "    print()\n"
   ]
  },
  {
   "cell_type": "code",
   "execution_count": 12,
   "metadata": {},
   "outputs": [
    {
     "name": "stdout",
     "output_type": "stream",
     "text": [
      "输出-1结束\n",
      "请输入实心矩形、空心矩形、实心三角形、空心三角形：空心三角形\n",
      "这是空心三角形\n",
      "* \n",
      "\n",
      "* * \n",
      "\n",
      "*   * \n",
      "\n",
      "*     * \n",
      "\n",
      "* * * * * \n",
      "\n",
      "输出-1结束\n",
      "请输入实心矩形、空心矩形、实心三角形、空心三角形：-1\n"
     ]
    }
   ],
   "source": [
    "while 1:\n",
    "    def s_jx(sjx):\n",
    "            print('这是'+sjx)\n",
    "            for i in range(1,5):\n",
    "                for j in range(1,6):\n",
    "                    print('*',end=\" \")\n",
    "                print(\"\\n\")\n",
    "    def k_jx(kjx):\n",
    "            print('这是'+kjx)\n",
    "            for i in range(1,5):\n",
    "                for j in range(1,6):\n",
    "                    if i==1 or i==4 or j==1 or j==5:\n",
    "                        print('*',end=\" \")\n",
    "                    else:\n",
    "                        print(' ',end=\" \")\n",
    "                print(\"\\n\")\n",
    "    def s_sjx(ssjx):\n",
    "            print('这是'+ssjx)\n",
    "            for i in range(1,6):\n",
    "                for j in range(6-i,6):\n",
    "                    print( '*',end=\" \")\n",
    "                print('')\n",
    "    def k_sjx(ksjx):\n",
    "            print('这是'+ksjx)\n",
    "            for i in range(1,6):\n",
    "                for j in range(6-i,6):\n",
    "                    if i==1 or i==5  or  j==7-i-1 or j==5:\n",
    "                        print( '*',end=\" \")\n",
    "                    else:\n",
    "                        print(' ',end=\" \")\n",
    "                print(\"\\n\")\n",
    "    print(\"输出-1结束\")\n",
    "    shape=input(\"请输入实心矩形、空心矩形、实心三角形、空心三角形：\")\n",
    "    \n",
    "    if shape =='-1':\n",
    "        break\n",
    "    if shape == \"实心矩形\":\n",
    "        s_jx(shape)\n",
    "    elif shape == \"空心矩形\":\n",
    "        k_jx(shape)\n",
    "    elif shape ==\"实心三角形\":\n",
    "        s_sjx(shape)\n",
    "    elif shape  ==\"空心三角形\":\n",
    "        k_sjx(shape)\n",
    "    else:\n",
    "        print(\"傻缺\")"
   ]
  },
  {
   "cell_type": "code",
   "execution_count": 1,
   "metadata": {},
   "outputs": [
    {
     "name": "stdout",
     "output_type": "stream",
     "text": [
      "* *  \n",
      "*   *  \n",
      "*   *  \n",
      "* *  \n"
     ]
    }
   ],
   "source": [
    "#字母D\n",
    "for m in range(4):\n",
    "    for n in range(3):\n",
    "        if n==0:\n",
    "            print(\"*\",end=\" \")\n",
    "        elif m==0 or m==3:\n",
    "            if n==2:\n",
    "                break\n",
    "            else:\n",
    "                print(\"*\",end=\" \")\n",
    "        elif n==2:\n",
    "            if m==0 or m==3:\n",
    "                break\n",
    "            else:\n",
    "                print(\"*\",end=\" \")\n",
    "        else:\n",
    "            print(\" \",end=\" \")\n",
    "    print(\" \")\n",
    "            "
   ]
  },
  {
   "cell_type": "code",
   "execution_count": 2,
   "metadata": {},
   "outputs": [
    {
     "name": "stdout",
     "output_type": "stream",
     "text": [
      "* *  \n",
      "*   *    \n",
      "*   *    \n",
      "* *  \n",
      "*   *    \n"
     ]
    }
   ],
   "source": [
    "#字母R\n",
    "for m in range(5):\n",
    "    for n in range(4):\n",
    "        if n==0:\n",
    "            print(\"*\",end=\" \")\n",
    "        elif m==0 or m==3:\n",
    "            if n==2:\n",
    "                break\n",
    "            else:\n",
    "                print(\"*\",end=\" \")\n",
    "        elif n==2:\n",
    "            if m==0 or m==3:\n",
    "                break\n",
    "            else:\n",
    "                print(\"*\",end=\" \")\n",
    "        else:\n",
    "            print(\" \",end=\" \")\n",
    "    print(\" \")\n"
   ]
  },
  {
   "cell_type": "code",
   "execution_count": 10,
   "metadata": {},
   "outputs": [
    {
     "name": "stdout",
     "output_type": "stream",
     "text": [
      "* *  \n",
      "*   *  \n",
      "*   *  \n",
      "* *  \n",
      "*    \n",
      "*    \n"
     ]
    }
   ],
   "source": [
    "#字母D\n",
    "for m in range(1,7):\n",
    "    for n in range(1,4):\n",
    "        if n==1:\n",
    "            print(\"*\",end=\" \")\n",
    "        elif m==1 or m==4:\n",
    "            if n>2:\n",
    "                break\n",
    "            else:\n",
    "                print(\"*\",end=\" \")\n",
    "        elif n>2:\n",
    "            if m==2 or m==3:\n",
    "               \n",
    "                print(\"*\",end=\" \")\n",
    "        else:\n",
    "            print(\" \",end=\" \")\n",
    "    print(\" \")\n",
    "            "
   ]
  },
  {
   "cell_type": "code",
   "execution_count": null,
   "metadata": {},
   "outputs": [],
   "source": []
  }
 ],
 "metadata": {
  "kernelspec": {
   "display_name": "Python 3",
   "language": "python",
   "name": "python3"
  },
  "language_info": {
   "codemirror_mode": {
    "name": "ipython",
    "version": 3
   },
   "file_extension": ".py",
   "mimetype": "text/x-python",
   "name": "python",
   "nbconvert_exporter": "python",
   "pygments_lexer": "ipython3",
   "version": "3.6.4"
  }
 },
 "nbformat": 4,
 "nbformat_minor": 2
}
