{
 "cells": [
  {
   "cell_type": "code",
   "execution_count": 1,
   "metadata": {},
   "outputs": [
    {
     "name": "stdout",
     "output_type": "stream",
     "text": [
      "$3\n",
      "$2\n",
      "$1\n",
      "$0\n",
      "==================================================\n",
      "0\n",
      "1\n",
      "2\n",
      "3\n"
     ]
    }
   ],
   "source": [
    "#类似与栈的先进后出模式\n",
    "#1.要有递推关系\n",
    "#2.要有临界值\n",
    "\n",
    "def digui(num):\n",
    "    print('$' + str(num))\n",
    "    #临界值\n",
    "    if num > 0:\n",
    "        #自己调用自己\n",
    "        digui(num - 1)\n",
    "    else:\n",
    "        print(\"=\"*50)\n",
    "    print(num)\n",
    "\n",
    "digui(3)    "
   ]
  },
  {
   "cell_type": "code",
   "execution_count": 2,
   "metadata": {},
   "outputs": [
    {
     "name": "stdout",
     "output_type": "stream",
     "text": [
      "A --- C\n"
     ]
    }
   ],
   "source": [
    "#汉诺塔模型一\n",
    "\n",
    "def hanno(n,A,B,C):\n",
    "    \n",
    "    if n == 1:\n",
    "        print(\"A\",\"---\",\"C\")\n",
    "        return None\n",
    "    if n == 2:\n",
    "        print(\"A\",\"---\",\"B\")\n",
    "        print(\"A\",\"---\",\"C\")\n",
    "        print(\"B\",\"---\",\"C\")\n",
    "        return None\n",
    "    else:\n",
    "        hanno(n-1,A,C,B)\n",
    "        hanno(1,A,B,C)\n",
    "        hanno(n-1,B,A,C)\n",
    "    \n",
    "A=\"A\"\n",
    "B=\"B\"\n",
    "C=\"C\"\n",
    "hanno(1,A,B,C)\n",
    "\n",
    "print(\"==\"*50)\n",
    "hanno(2,A,B,C)"
   ]
  },
  {
   "cell_type": "code",
   "execution_count": 4,
   "metadata": {},
   "outputs": [
    {
     "name": "stdout",
     "output_type": "stream",
     "text": [
      "A --- B\n",
      "A --- C\n",
      "B --- C\n"
     ]
    }
   ],
   "source": [
    "hanno(2,A,B,C)"
   ]
  },
  {
   "cell_type": "code",
   "execution_count": 5,
   "metadata": {},
   "outputs": [
    {
     "name": "stdout",
     "output_type": "stream",
     "text": [
      "A --- B\n",
      "A --- C\n",
      "B --- C\n",
      "A --- C\n",
      "A --- B\n",
      "A --- C\n",
      "B --- C\n"
     ]
    }
   ],
   "source": [
    "hanno(3,A,B,C)"
   ]
  },
  {
   "cell_type": "code",
   "execution_count": 50,
   "metadata": {},
   "outputs": [
    {
     "name": "stdout",
     "output_type": "stream",
     "text": [
      "A --> C\n",
      "A --> B\n",
      "C --> B\n",
      "A --> C\n",
      "B --> A\n",
      "B --> C\n",
      "A --> C\n"
     ]
    }
   ],
   "source": [
    "def hano(n, a, b, c):\n",
    "   \n",
    "    if n == 1:\n",
    "        print(a, \"-->\", c)\n",
    "        return None\n",
    "    \n",
    "    # 把n-1个盘子，从a塔借助于c塔，挪到b塔上去\n",
    "    hano(n-1, a, c, b)\n",
    "    print(a, \"-->\", c)\n",
    "    # 把n-1个盘子，从b塔，借助于a塔，挪到c塔上去\n",
    "    hano(n-1,b, a, c)\n",
    "    \n",
    "a = \"A\"\n",
    "b = \"B\"\n",
    "c = \"C\"\n",
    "\n",
    "n = 3\n",
    "hano(n, a, b, c)"
   ]
  },
  {
   "cell_type": "code",
   "execution_count": null,
   "metadata": {},
   "outputs": [],
   "source": []
  }
 ],
 "metadata": {
  "kernelspec": {
   "display_name": "Python 3",
   "language": "python",
   "name": "python3"
  },
  "language_info": {
   "codemirror_mode": {
    "name": "ipython",
    "version": 3
   },
   "file_extension": ".py",
   "mimetype": "text/x-python",
   "name": "python",
   "nbconvert_exporter": "python",
   "pygments_lexer": "ipython3",
   "version": "3.6.4"
  }
 },
 "nbformat": 4,
 "nbformat_minor": 2
}
