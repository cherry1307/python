{
 "cells": [
  {
   "cell_type": "markdown",
   "metadata": {},
   "source": [
    "# 二进制和十进制的转换\n",
    "\n",
    "    按照权展开相加\n",
    "    \n",
    "   # 权：对二进制来说，2的几次方\n",
    "   \n",
    "       1110=1*2^3+1*2^2+1*2^1+0*2^0=14\n",
    "       \n",
    "# 十进制转化成二进制\n",
    "\n",
    "    除2取余，余数从下往上取\n",
    "    \n",
    "# 二进制转换为八进制\n",
    "\n",
    "    三位二进制代表一位八进制\n",
    "    \n",
    "    从右到左，不够三位数前面补0，再分开按照权展开相加\n",
    "    \n",
    "    第一位0*2^2+0*2^1+1*2^0=1\n",
    "    第二位1*2^2+1*2^1+0*2^0=6\n",
    "    \n",
    "    001 110 =16\n",
    "    \n",
    "# 八进制转换为二进制\n",
    "\n",
    "每一位数除2取余，不足3位在最左边补0\n",
    "\n",
    "# 二进制转换为十六进制\n",
    "\n",
    "    四位二进制\n",
    "    \n",
    "    从右到左，不够三位数前面补0，再分开按照权展开相加\n",
    "    \n",
    "    第一位 0*2^3+1*2^2+0*2^1+1*2^0=5\n",
    "    第二位 1*2^3+0*2^2+0*2^1+1*2^0=9\n",
    "    0101 1001=59\n",
    "    \n",
    "# 其他进制之间的转换\n",
    "    \n",
    "   # 十进制转换成任意进制 \n",
    "        \n",
    "        拿十进制除以其他进制数（与除二取余类似）\n",
    "        \n",
    "   # 其他进制数转换成十进制数\n",
    "   \n",
    "        按权展开相加\n",
    "        例如：八进制的话就是8的几次方\n",
    "        0o15=1*8^1+5*8^0=13\n",
    "   \n",
    "   # 八进制转换为十六进制\n",
    "   \n",
    "   先转换为二进制再转换为其他进制\n",
    "        \n",
    "        \n",
    "    "
   ]
  },
  {
   "cell_type": "code",
   "execution_count": 5,
   "metadata": {},
   "outputs": [
    {
     "name": "stdout",
     "output_type": "stream",
     "text": [
      "14\n",
      "14\n",
      "0b1110\n",
      "0o16\n",
      "89\n",
      "0x59\n",
      "0o15\n"
     ]
    }
   ],
   "source": [
    "a=0b1110\n",
    "print(a)\n",
    "\n",
    "a=14\n",
    "b=bin(a)\n",
    "print(a)\n",
    "print(b)\n",
    "\n",
    "o=oct(a)\n",
    "print(o)\n",
    "\n",
    "a=0b01011001\n",
    "h=hex(a)\n",
    "print(a)\n",
    "print(h)\n",
    "\n",
    "a=13\n",
    "o=oct(a)\n",
    "print(o)"
   ]
  },
  {
   "cell_type": "code",
   "execution_count": null,
   "metadata": {},
   "outputs": [],
   "source": []
  }
 ],
 "metadata": {
  "kernelspec": {
   "display_name": "Python 3",
   "language": "python",
   "name": "python3"
  },
  "language_info": {
   "codemirror_mode": {
    "name": "ipython",
    "version": 3
   },
   "file_extension": ".py",
   "mimetype": "text/x-python",
   "name": "python",
   "nbconvert_exporter": "python",
   "pygments_lexer": "ipython3",
   "version": "3.6.4"
  }
 },
 "nbformat": 4,
 "nbformat_minor": 2
}
