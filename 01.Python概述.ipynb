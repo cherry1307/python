{
 "cells": [
  {
   "cell_type": "code",
   "execution_count": 1,
   "metadata": {},
   "outputs": [
    {
     "name": "stdout",
     "output_type": "stream",
     "text": [
      "Hello World!\n"
     ]
    },
    {
     "data": {
      "text/plain": [
       "'这里的内容\\n机器都不看'"
      ]
     },
     "execution_count": 1,
     "metadata": {},
     "output_type": "execute_result"
    }
   ],
   "source": [
    "#代码的作用\n",
    "#1.给人看\n",
    "#2.给机器看\n",
    "#注释是纯给人看的\n",
    "print(\"Hello World!\")#打印Hello World\n",
    "'''这里的内容\n",
    "机器都不看'''\n"
   ]
  },
  {
   "cell_type": "markdown",
   "metadata": {},
   "source": [
    "# 注释\n",
    "    \n",
    "    机器不执行\n",
    "    注释一般用自然语言书写\n",
    "    注释的写法：\n",
    "    行注释：以#开头\n",
    "    列注释：双引号或三引号"
   ]
  },
  {
   "cell_type": "markdown",
   "metadata": {},
   "source": [
    "# 变量\n",
    "\n",
    "    程序=数据结构+算法\n",
    "    变量就是可以重复使用的一个量，或者叫一个代码\n",
    "    变量的命名规则：\n",
    "        变量命名可以包含数字，大小写字母，下划线或更多\n",
    "        数字不能打头\n",
    "            4man ,5for 不可以\n",
    "            man4 ,for5 可以\n",
    "        一般在Python中，以下划线开头的内容具有特殊意义\n",
    "            比如_age,_name,理论可以，但不建议使用\n",
    "        大小写不一样\n",
    "            ForMan跟forman不同\n",
    "        推荐：\n",
    "            使用具有固定含义的英文单词或缩写\n",
    "                srv=server skt=socket\n",
    "            驼峰命名法：\n",
    "                大驼峰：每个单词第一个字符大写\n",
    "                    在Python中类命名\n",
    "                    MyFristLove ，IntOne\n",
    "                小驼峰：第一个字母小写\n",
    "                    在Python中给普通变量命名\n",
    "                    myFirstLove ，intOne\n",
    "                 posix写法：\n",
    "                 多个单词用下划线连接\n",
    "                 单词全部小写\n",
    "                 my_first_love ,int_one\n",
    "        关键字和保留字：\n",
    "            变量命名必须避开\n",
    "            class ,def ,break ,for\n",
    "    "
   ]
  },
  {
   "cell_type": "code",
   "execution_count": 2,
   "metadata": {},
   "outputs": [
    {
     "name": "stdout",
     "output_type": "stream",
     "text": [
      "['False', 'None', 'True', 'and', 'as', 'assert', 'break', 'class', 'continue', 'def', 'del', 'elif', 'else', 'except', 'finally', 'for', 'from', 'global', 'if', 'import', 'in', 'is', 'lambda', 'nonlocal', 'not', 'or', 'pass', 'raise', 'return', 'try', 'while', 'with', 'yield']\n"
     ]
    }
   ],
   "source": [
    "#查看关键字方法\n",
    "import keyword\n",
    "#打印出系统所有关键字\n",
    "print(keyword.kwlist)"
   ]
  },
  {
   "cell_type": "markdown",
   "metadata": {},
   "source": [
    "#   变量声明\n",
    "    var_name=var_value\n",
    "    var1=var2=var3=var_value\n",
    "    var1,var2,var3=v1,v2,v3\n",
    "   "
   ]
  },
  {
   "cell_type": "code",
   "execution_count": 4,
   "metadata": {},
   "outputs": [
    {
     "name": "stdout",
     "output_type": "stream",
     "text": [
      "18\n",
      "18\n",
      "18\n",
      "18\n",
      "18\n",
      "12\n",
      "21\n",
      "45\n"
     ]
    }
   ],
   "source": [
    "##定义变量age，将18放入 age 中\n",
    "age=18\n",
    "print(age)\n",
    "print(18)\n",
    "#给age1,age2,age3放入同样一个内容或值\n",
    "age1=age2=age3=18\n",
    "print(age1)\n",
    "print(age2)\n",
    "print(age3)\n",
    "age4,age5,age6=12,21,45\n",
    "print(age4)\n",
    "print(age5)\n",
    "print(age6) \n"
   ]
  },
  {
   "cell_type": "markdown",
   "metadata": {},
   "source": [
    "# 变量类型\n",
    "    严格意义上，Python只有一种类型\n",
    "    标准数据一共6种\n",
    "        数字类型NUmber\n",
    "        字符串类型str\n",
    "        列表list\n",
    "        字典dictionary\n",
    "        集合set"
   ]
  },
  {
   "cell_type": "markdown",
   "metadata": {},
   "source": [
    "# # Number数字类型\n",
    "    没有大小限制\n",
    "    \n",
    "  ## 整数\n",
    " \n",
    "     整数分进制：\n",
    "         二进制\n",
    "             计算机常用\n",
    "             是计算机唯一能直接理解的数字\n",
    "             表示为0b开头的0,1代码\n",
    "             例如 0b01101 ,0b011110\n",
    "         八进制\n",
    "             不常用\n",
    "             以0o开头的包含0-7的数字\n",
    "         十进制\n",
    "             18 89 91\n",
    "         十六进制\n",
    "             缝16进1\n",
    "             四位二进制\n",
    "             以0x开头\n",
    "  "
   ]
  },
  {
   "cell_type": "code",
   "execution_count": 5,
   "metadata": {},
   "outputs": [
    {
     "name": "stdout",
     "output_type": "stream",
     "text": [
      "18\n",
      "18\n",
      "512\n"
     ]
    }
   ],
   "source": [
    "age=18\n",
    "print(18)\n",
    "\n",
    "age=0b10010\n",
    "print(age)\n",
    "\n",
    "age=0o001000\n",
    "print(age)\n"
   ]
  },
  {
   "cell_type": "markdown",
   "metadata": {},
   "source": [
    "### 浮点数\n",
    "    小数\n",
    "    计算机里表示浮点数可以有条件省略\n",
    "    3.1415926\n",
    "    3.\n",
    "    .5\n",
    "    科学计数法\n",
    "        e/E后跟整数\n",
    "        176.34=1.7634e2\n",
    "        0.876=8.76e-1"
   ]
  },
  {
   "cell_type": "code",
   "execution_count": 6,
   "metadata": {},
   "outputs": [
    {
     "name": "stdout",
     "output_type": "stream",
     "text": [
      "156.78\n",
      "0.2\n",
      "0.6\n"
     ]
    }
   ],
   "source": [
    "height = 156.78\n",
    "print(height)\n",
    "\n",
    "shili=0.2\n",
    "print(shili)\n",
    "\n",
    "shili=.6\n",
    "print(shili)"
   ]
  },
  {
   "cell_type": "markdown",
   "metadata": {},
   "source": [
    "### 复数complex\n",
    "\n",
    "    一个实部一个虚部\n",
    "    虚部用j/J表示\n",
    "    5+3j\n",
    "    3j\n",
    "    (3j)"
   ]
  },
  {
   "cell_type": "markdown",
   "metadata": {},
   "source": [
    "## 布尔值\n",
    "\n",
    "    表示真假\n",
    "    只有两个值 True/False\n",
    "    可以跟数字直接操作"
   ]
  },
  {
   "cell_type": "code",
   "execution_count": 9,
   "metadata": {},
   "outputs": [
    {
     "name": "stdout",
     "output_type": "stream",
     "text": [
      "19\n"
     ]
    }
   ],
   "source": [
    "#布尔值操作\n",
    "age=18 + True\n",
    "print(age)"
   ]
  },
  {
   "cell_type": "markdown",
   "metadata": {},
   "source": [
    "## 字符串\n",
    "\n",
    "    用来表示一串文字信息\n",
    "    表示：\n",
    "        单引号\n",
    "        双引号\n",
    "        三引号\n",
    "            能够括起多行信息\n",
    "     单双引号交错使用"
   ]
  },
  {
   "cell_type": "code",
   "execution_count": 17,
   "metadata": {},
   "outputs": [
    {
     "name": "stdout",
     "output_type": "stream",
     "text": [
      "i love you\n",
      "我爱你\n",
      "a style = \"color:red\">\n",
      "哈哈哈</a>\n",
      "a style = \"color:red\">哈哈哈</a>\n"
     ]
    }
   ],
   "source": [
    "love=\"i love you\"\n",
    "print(love)\n",
    "\n",
    "love=\"我爱你\"\n",
    "print(love)\n",
    "\n",
    "#单双引号交错使用例子\n",
    "#<a style = \"color:red\">哈哈哈</a>\n",
    "\n",
    "htmls='a style = \"color:red\">哈哈哈</a>'\n",
    "\n",
    "html='''a style = \"color:red\">\n",
    "哈哈哈</a>'''\n",
    "\n",
    "print(html)\n",
    "\n",
    "print(htmls)"
   ]
  },
  {
   "cell_type": "code",
   "execution_count": null,
   "metadata": {},
   "outputs": [],
   "source": []
  },
  {
   "cell_type": "code",
   "execution_count": null,
   "metadata": {},
   "outputs": [],
   "source": []
  },
  {
   "cell_type": "code",
   "execution_count": null,
   "metadata": {},
   "outputs": [],
   "source": []
  },
  {
   "cell_type": "code",
   "execution_count": null,
   "metadata": {},
   "outputs": [],
   "source": []
  },
  {
   "cell_type": "code",
   "execution_count": null,
   "metadata": {},
   "outputs": [],
   "source": []
  }
 ],
 "metadata": {
  "kernelspec": {
   "display_name": "Python 3",
   "language": "python",
   "name": "python3"
  },
  "language_info": {
   "codemirror_mode": {
    "name": "ipython",
    "version": 3
   },
   "file_extension": ".py",
   "mimetype": "text/x-python",
   "name": "python",
   "nbconvert_exporter": "python",
   "pygments_lexer": "ipython3",
   "version": "3.6.4"
  }
 },
 "nbformat": 4,
 "nbformat_minor": 2
}
